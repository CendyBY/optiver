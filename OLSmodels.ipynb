{
 "metadata": {
  "language_info": {
   "codemirror_mode": {
    "name": "ipython",
    "version": 3
   },
   "file_extension": ".py",
   "mimetype": "text/x-python",
   "name": "python",
   "nbconvert_exporter": "python",
   "pygments_lexer": "ipython3",
   "version": "3.7.6"
  },
  "orig_nbformat": 4,
  "kernelspec": {
   "name": "python3",
   "display_name": "Python 3.7.6 64-bit ('base': conda)"
  },
  "interpreter": {
   "hash": "687f45d6a2773775b3495d081410cd6e6b86c43310022490470218bc20f74620"
  }
 },
 "nbformat": 4,
 "nbformat_minor": 2,
 "cells": [
  {
   "cell_type": "code",
   "execution_count": 33,
   "metadata": {},
   "outputs": [],
   "source": [
    "import pandas as pd\n",
    "import numpy as np\n",
    "import plotly.express as pe\n",
    "import glob\n",
    "from sklearn.metrics import r2_score"
   ]
  },
  {
   "cell_type": "code",
   "execution_count": 34,
   "metadata": {},
   "outputs": [],
   "source": [
    "def train_test(mode):\n",
    "    # mode = \"train\"/\"test\"\n",
    "    file_name = '../input/optiver-realized-volatility-prediction/' + mode + '.csv'\n",
    "    return pd.read_csv(file_name)"
   ]
  },
  {
   "cell_type": "code",
   "execution_count": 35,
   "metadata": {},
   "outputs": [
    {
     "output_type": "execute_result",
     "data": {
      "text/plain": [
       "   stock_id  time_id    target\n",
       "0         0        5  0.004136\n",
       "1         0       11  0.001445\n",
       "2         0       16  0.002168\n",
       "3         0       31  0.002195\n",
       "4         0       62  0.001747"
      ],
      "text/html": "<div>\n<style scoped>\n    .dataframe tbody tr th:only-of-type {\n        vertical-align: middle;\n    }\n\n    .dataframe tbody tr th {\n        vertical-align: top;\n    }\n\n    .dataframe thead th {\n        text-align: right;\n    }\n</style>\n<table border=\"1\" class=\"dataframe\">\n  <thead>\n    <tr style=\"text-align: right;\">\n      <th></th>\n      <th>stock_id</th>\n      <th>time_id</th>\n      <th>target</th>\n    </tr>\n  </thead>\n  <tbody>\n    <tr>\n      <th>0</th>\n      <td>0</td>\n      <td>5</td>\n      <td>0.004136</td>\n    </tr>\n    <tr>\n      <th>1</th>\n      <td>0</td>\n      <td>11</td>\n      <td>0.001445</td>\n    </tr>\n    <tr>\n      <th>2</th>\n      <td>0</td>\n      <td>16</td>\n      <td>0.002168</td>\n    </tr>\n    <tr>\n      <th>3</th>\n      <td>0</td>\n      <td>31</td>\n      <td>0.002195</td>\n    </tr>\n    <tr>\n      <th>4</th>\n      <td>0</td>\n      <td>62</td>\n      <td>0.001747</td>\n    </tr>\n  </tbody>\n</table>\n</div>"
     },
     "metadata": {},
     "execution_count": 35
    }
   ],
   "source": [
    "train = train_test(\"train\")\n",
    "train.head()"
   ]
  },
  {
   "cell_type": "code",
   "execution_count": 36,
   "metadata": {},
   "outputs": [
    {
     "output_type": "execute_result",
     "data": {
      "text/plain": [
       "   stock_id  time_id row_id\n",
       "0         0        4    0-4\n",
       "1         0       32   0-32\n",
       "2         0       34   0-34"
      ],
      "text/html": "<div>\n<style scoped>\n    .dataframe tbody tr th:only-of-type {\n        vertical-align: middle;\n    }\n\n    .dataframe tbody tr th {\n        vertical-align: top;\n    }\n\n    .dataframe thead th {\n        text-align: right;\n    }\n</style>\n<table border=\"1\" class=\"dataframe\">\n  <thead>\n    <tr style=\"text-align: right;\">\n      <th></th>\n      <th>stock_id</th>\n      <th>time_id</th>\n      <th>row_id</th>\n    </tr>\n  </thead>\n  <tbody>\n    <tr>\n      <th>0</th>\n      <td>0</td>\n      <td>4</td>\n      <td>0-4</td>\n    </tr>\n    <tr>\n      <th>1</th>\n      <td>0</td>\n      <td>32</td>\n      <td>0-32</td>\n    </tr>\n    <tr>\n      <th>2</th>\n      <td>0</td>\n      <td>34</td>\n      <td>0-34</td>\n    </tr>\n  </tbody>\n</table>\n</div>"
     },
     "metadata": {},
     "execution_count": 36
    }
   ],
   "source": [
    "test = train_test(\"test\")\n",
    "test.head()"
   ]
  },
  {
   "cell_type": "code",
   "execution_count": 37,
   "metadata": {},
   "outputs": [],
   "source": [
    "list_order_book_file_train = glob.glob('../input/optiver-realized-volatility-prediction/book_train.parquet/*')"
   ]
  },
  {
   "cell_type": "code",
   "execution_count": 38,
   "metadata": {},
   "outputs": [],
   "source": [
    "# aggregate function\n",
    "def wap2vol(price_serise):\n",
    "    log_return_series = np.log(price_serise).diff()\n",
    "    return np.sqrt(np.sum(log_return_series**2))"
   ]
  },
  {
   "cell_type": "code",
   "execution_count": 39,
   "metadata": {},
   "outputs": [],
   "source": [
    "def rel_vol_time_id(path):\n",
    "    # book: book is an order book\n",
    "    book = pd.read_parquet(path) # order book for a stock id loaded\n",
    "    # calculating WAP\n",
    "    p1 = book[\"bid_price1\"]\n",
    "    p2 = book[\"ask_price1\"]\n",
    "    s1 = book[\"bid_size1\"]\n",
    "    s2 = book[\"ask_size1\"]\n",
    "    \n",
    "    book[\"WAP\"] = (p1*s2 + p2*s1) / (s1 + s2)\n",
    "    # calculating realized volatility for each time_id\n",
    "    transbook = book.groupby(\"time_id\")[\"WAP\"].agg(wap2vol)\n",
    "    return transbook"
   ]
  },
  {
   "cell_type": "code",
   "execution_count": 40,
   "metadata": {},
   "outputs": [
    {
     "output_type": "stream",
     "name": "stdout",
     "text": [
      "CPU times: user 3min 56s, sys: 11.6 s, total: 4min 8s\nWall time: 4min 16s\n"
     ]
    }
   ],
   "source": [
    "%%time\n",
    "# tricks: dataframe data from serices\n",
    "stock_id = []\n",
    "time_id = []\n",
    "relvol = []\n",
    "for stock in list_order_book_file_train:\n",
    "    temp_stock = int(stock.split('=')[1])\n",
    "    temp_realvol = rel_vol_time_id(stock)\n",
    "    stock_id += [temp_stock]*temp_realvol.shape[0]\n",
    "    time_id += list(temp_realvol.index)\n",
    "    relvol += list(temp_realvol)"
   ]
  },
  {
   "cell_type": "code",
   "execution_count": 41,
   "metadata": {},
   "outputs": [
    {
     "output_type": "stream",
     "name": "stdout",
     "text": [
      "The R2 score of the naive prediction for training set is 0.628\n"
     ]
    }
   ],
   "source": [
    "# histort data\n",
    "past_volatility = pd.DataFrame({\"stock_id\": stock_id, \"time_id\": time_id, \"volatility\": relvol})\n",
    "# join data\n",
    "joined = train.merge(past_volatility, on= ['stock_id','time_id'], how='left')\n",
    "\n",
    "R2 = round(r2_score(y_true = joined['target'], y_pred = joined['volatility']),3)\n",
    "print(f'The R2 score of the naive prediction for training set is {R2}')"
   ]
  },
  {
   "cell_type": "code",
   "execution_count": 42,
   "metadata": {},
   "outputs": [
    {
     "output_type": "execute_result",
     "data": {
      "text/plain": [
       "   stock_id  time_id    target  volatility\n",
       "0         0        5  0.004136    0.004499\n",
       "1         0       11  0.001445    0.001204\n",
       "2         0       16  0.002168    0.002369\n",
       "3         0       31  0.002195    0.002574\n",
       "4         0       62  0.001747    0.001894"
      ],
      "text/html": "<div>\n<style scoped>\n    .dataframe tbody tr th:only-of-type {\n        vertical-align: middle;\n    }\n\n    .dataframe tbody tr th {\n        vertical-align: top;\n    }\n\n    .dataframe thead th {\n        text-align: right;\n    }\n</style>\n<table border=\"1\" class=\"dataframe\">\n  <thead>\n    <tr style=\"text-align: right;\">\n      <th></th>\n      <th>stock_id</th>\n      <th>time_id</th>\n      <th>target</th>\n      <th>volatility</th>\n    </tr>\n  </thead>\n  <tbody>\n    <tr>\n      <th>0</th>\n      <td>0</td>\n      <td>5</td>\n      <td>0.004136</td>\n      <td>0.004499</td>\n    </tr>\n    <tr>\n      <th>1</th>\n      <td>0</td>\n      <td>11</td>\n      <td>0.001445</td>\n      <td>0.001204</td>\n    </tr>\n    <tr>\n      <th>2</th>\n      <td>0</td>\n      <td>16</td>\n      <td>0.002168</td>\n      <td>0.002369</td>\n    </tr>\n    <tr>\n      <th>3</th>\n      <td>0</td>\n      <td>31</td>\n      <td>0.002195</td>\n      <td>0.002574</td>\n    </tr>\n    <tr>\n      <th>4</th>\n      <td>0</td>\n      <td>62</td>\n      <td>0.001747</td>\n      <td>0.001894</td>\n    </tr>\n  </tbody>\n</table>\n</div>"
     },
     "metadata": {},
     "execution_count": 42
    }
   ],
   "source": [
    "joined[joined['stock_id']==0].head()"
   ]
  },
  {
   "cell_type": "code",
   "execution_count": 43,
   "metadata": {},
   "outputs": [
    {
     "output_type": "stream",
     "name": "stdout",
     "text": [
      "The RMSPE score of the native prediciton for the training set is 0.34135452432884295\n"
     ]
    }
   ],
   "source": [
    "def rmspe(y_true, y_pred):\n",
    "    return  (np.sqrt(np.mean(np.square((y_true - y_pred) / y_true))))\n",
    "\n",
    "rmspe = rmspe(joined[\"target\"], joined[\"volatility\"])\n",
    "print(f'The RMSPE score of the native prediciton for the training set is {rmspe}')"
   ]
  },
  {
   "cell_type": "code",
   "execution_count": 48,
   "metadata": {},
   "outputs": [],
   "source": [
    "# key point\n",
    "from sklearn.linear_model import LinearRegression\n",
    "from sklearn.preprocessing import PolynomialFeatures\n",
    "\n",
    "def linear_training(X,y,degree):\n",
    "    polyfeat = PolynomialFeatures(degree=degree)\n",
    "    linreg = LinearRegression()\n",
    "    x = np.array(X).reshape(-1,1)\n",
    "    X_ = polyfeat.fit_transform(x)\n",
    "    weights = 1/np.square(y)\n",
    "    return linreg.fit(X_,np.array(y).reshape(-1,1),sample_weight=weights)\n"
   ]
  },
  {
   "cell_type": "code",
   "execution_count": 49,
   "metadata": {},
   "outputs": [],
   "source": [
    "stock_id_train = train.stock_id.unique()\n",
    "models = {}\n",
    "\n",
    "degree = 2\n",
    "\n",
    "for i in stock_id_train:\n",
    "    temp = joined[joined['stock_id']==i]\n",
    "    X = temp['volatility']\n",
    "    y = temp['target']\n",
    "    models[i] = linear_training(X,y,degree)\n"
   ]
  },
  {
   "cell_type": "code",
   "execution_count": 54,
   "metadata": {},
   "outputs": [
    {
     "output_type": "stream",
     "name": "stdout",
     "text": [
      "CPU times: user 20.8 ms, sys: 60.6 ms, total: 81.4 ms\nWall time: 267 ms\n"
     ]
    }
   ],
   "source": [
    "%%time \n",
    "order_book_test = glob.glob('../input/optiver-realized-volatility-prediction/book_test.parquet/*')\n",
    "\n",
    "stock_id = []\n",
    "time_id = []\n",
    "relvol = []\n",
    "for i in order_book_test:\n",
    "    # finding the stock_id\n",
    "    temp_stock = int(i.split(\"=\")[1])\n",
    "    # find the realized volatility for all time_id of temp_stock\n",
    "    temp_relvol = rel_vol_time_id(i)\n",
    "    stock_id += [temp_stock]*temp_relvol.shape[0]\n",
    "    time_id += list(temp_relvol.index)\n",
    "    relvol += list(temp_relvol)\n",
    "    \n",
    "past_test_volatility = pd.DataFrame({\"stock_id\": stock_id, \"time_id\": time_id, \"volatility\": relvol})"
   ]
  },
  {
   "cell_type": "code",
   "execution_count": 55,
   "metadata": {},
   "outputs": [
    {
     "output_type": "execute_result",
     "data": {
      "text/plain": [
       "   stock_id  time_id  volatility\n",
       "0         0        4    0.000294"
      ],
      "text/html": "<div>\n<style scoped>\n    .dataframe tbody tr th:only-of-type {\n        vertical-align: middle;\n    }\n\n    .dataframe tbody tr th {\n        vertical-align: top;\n    }\n\n    .dataframe thead th {\n        text-align: right;\n    }\n</style>\n<table border=\"1\" class=\"dataframe\">\n  <thead>\n    <tr style=\"text-align: right;\">\n      <th></th>\n      <th>stock_id</th>\n      <th>time_id</th>\n      <th>volatility</th>\n    </tr>\n  </thead>\n  <tbody>\n    <tr>\n      <th>0</th>\n      <td>0</td>\n      <td>4</td>\n      <td>0.000294</td>\n    </tr>\n  </tbody>\n</table>\n</div>"
     },
     "metadata": {},
     "execution_count": 55
    }
   ],
   "source": [
    "past_test_volatility"
   ]
  },
  {
   "cell_type": "code",
   "execution_count": 56,
   "metadata": {},
   "outputs": [
    {
     "output_type": "execute_result",
     "data": {
      "text/plain": [
       "['../input/optiver-realized-volatility-prediction/book_test.parquet/stock_id=0']"
      ]
     },
     "metadata": {},
     "execution_count": 56
    }
   ],
   "source": [
    "order_book_test"
   ]
  },
  {
   "cell_type": "code",
   "execution_count": 65,
   "metadata": {},
   "outputs": [],
   "source": [
    "def linear_inference(models, stock_id, past_volatility, degree):\n",
    "    model = models[stock_id]\n",
    "    polyfeat = PolynomialFeatures(degree=degree)\n",
    "    return model.predict(polyfeat.fit_transform([[past_volatility]]))[0][0]"
   ]
  },
  {
   "cell_type": "code",
   "execution_count": 66,
   "metadata": {},
   "outputs": [],
   "source": [
    "submission = pd.DataFrame({\"row_id\" : [], \"target\" : []})  \n",
    "submission[\"row_id\"] = past_test_volatility.apply(lambda x: str(int(x.stock_id)) + '-' + str(int(x.time_id)), axis=1)\n",
    "# prediction for test data\n",
    "submission[\"target\"] = past_test_volatility.apply(lambda x: linear_inference(models,x.stock_id,x.volatility,degree),axis = 1)"
   ]
  },
  {
   "cell_type": "code",
   "execution_count": 58,
   "metadata": {},
   "outputs": [
    {
     "output_type": "execute_result",
     "data": {
      "text/plain": [
       "   stock_id  time_id  volatility\n",
       "0         0        4    0.000294"
      ],
      "text/html": "<div>\n<style scoped>\n    .dataframe tbody tr th:only-of-type {\n        vertical-align: middle;\n    }\n\n    .dataframe tbody tr th {\n        vertical-align: top;\n    }\n\n    .dataframe thead th {\n        text-align: right;\n    }\n</style>\n<table border=\"1\" class=\"dataframe\">\n  <thead>\n    <tr style=\"text-align: right;\">\n      <th></th>\n      <th>stock_id</th>\n      <th>time_id</th>\n      <th>volatility</th>\n    </tr>\n  </thead>\n  <tbody>\n    <tr>\n      <th>0</th>\n      <td>0</td>\n      <td>4</td>\n      <td>0.000294</td>\n    </tr>\n  </tbody>\n</table>\n</div>"
     },
     "metadata": {},
     "execution_count": 58
    }
   ],
   "source": [
    "past_test_volatility"
   ]
  },
  {
   "cell_type": "code",
   "execution_count": 60,
   "metadata": {},
   "outputs": [
    {
     "output_type": "execute_result",
     "data": {
      "text/plain": [
       "  row_id  target\n",
       "0    0-4     NaN"
      ],
      "text/html": "<div>\n<style scoped>\n    .dataframe tbody tr th:only-of-type {\n        vertical-align: middle;\n    }\n\n    .dataframe tbody tr th {\n        vertical-align: top;\n    }\n\n    .dataframe thead th {\n        text-align: right;\n    }\n</style>\n<table border=\"1\" class=\"dataframe\">\n  <thead>\n    <tr style=\"text-align: right;\">\n      <th></th>\n      <th>row_id</th>\n      <th>target</th>\n    </tr>\n  </thead>\n  <tbody>\n    <tr>\n      <th>0</th>\n      <td>0-4</td>\n      <td>NaN</td>\n    </tr>\n  </tbody>\n</table>\n</div>"
     },
     "metadata": {},
     "execution_count": 60
    }
   ],
   "source": [
    "submission"
   ]
  },
  {
   "cell_type": "code",
   "execution_count": 67,
   "metadata": {},
   "outputs": [
    {
     "output_type": "execute_result",
     "data": {
      "text/plain": [
       "  row_id   target\n",
       "0    0-4  0.00068"
      ],
      "text/html": "<div>\n<style scoped>\n    .dataframe tbody tr th:only-of-type {\n        vertical-align: middle;\n    }\n\n    .dataframe tbody tr th {\n        vertical-align: top;\n    }\n\n    .dataframe thead th {\n        text-align: right;\n    }\n</style>\n<table border=\"1\" class=\"dataframe\">\n  <thead>\n    <tr style=\"text-align: right;\">\n      <th></th>\n      <th>row_id</th>\n      <th>target</th>\n    </tr>\n  </thead>\n  <tbody>\n    <tr>\n      <th>0</th>\n      <td>0-4</td>\n      <td>0.00068</td>\n    </tr>\n  </tbody>\n</table>\n</div>"
     },
     "metadata": {},
     "execution_count": 67
    }
   ],
   "source": [
    "submission.to_csv('submission.csv',index = False)"
   ]
  },
  {
   "cell_type": "code",
   "execution_count": null,
   "metadata": {},
   "outputs": [],
   "source": []
  }
 ]
}